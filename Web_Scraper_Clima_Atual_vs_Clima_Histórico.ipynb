{
  "cells": [
    {
      "cell_type": "markdown",
      "metadata": {
        "id": "view-in-github",
        "colab_type": "text"
      },
      "source": [
        "<a href=\"https://colab.research.google.com/github/ferkrum/web-scraper-clima-atual-vc-clima-historico/blob/main/Web_Scraper_Clima_Atual_vs_Clima_Hist%C3%B3rico.ipynb\" target=\"_parent\"><img src=\"https://colab.research.google.com/assets/colab-badge.svg\" alt=\"Open In Colab\"/></a>"
      ]
    },
    {
      "cell_type": "markdown",
      "metadata": {
        "id": "QJwQ6O7XeC-S"
      },
      "source": [
        "#Web Scraper Clima Atual vs Clima Histórico\n",
        "\n",
        "Como saber se a temperatura atual está acima ou abaixo da média? E a umidade? \n",
        "\n",
        "Para responder essa pergunta usei duas fontes de dados para obter essas informações e gerar essas comparações. \n",
        "\n",
        "Fonte de dados: \n",
        "\n",
        "URL = 'https://www.climatempo.com.br/previsao-do-tempo/agora/cidade/366/santamaria-rs'\n",
        "\n",
        "URL2 = 'https://pt.climate-data.org/america-do-sul/brasil/rio-grande-do-sul/santa-maria-4498/#climate-graph'\n",
        "\n",
        "\n",
        "Linguagem: Python\n",
        "\n",
        "_libs: requests; Beautifulsoup, datetime, pytz timezone_\n",
        "\n",
        ".\n",
        "\n",
        ".\n",
        "\n",
        "_...Próximos features:_ \n",
        "* criar um bot no telegram para receber essa informação.\n"
      ]
    },
    {
      "cell_type": "code",
      "execution_count": null,
      "metadata": {
        "id": "fOYbRAuBdDjk"
      },
      "outputs": [],
      "source": [
        "import requests \n",
        "from bs4 import BeautifulSoup as bs"
      ]
    },
    {
      "cell_type": "code",
      "execution_count": null,
      "metadata": {
        "id": "pPG2g7gf4aPB"
      },
      "outputs": [],
      "source": [
        "import pandas as pd\n",
        "import numpy as np"
      ]
    },
    {
      "cell_type": "code",
      "execution_count": null,
      "metadata": {
        "id": "9aFhQiyvLfol"
      },
      "outputs": [],
      "source": [
        "from datetime import datetime\n",
        "from pytz import timezone \n",
        "brasil = timezone('Brazil/East')\n",
        "bs_time = datetime.now(brasil)\n",
        "timestampBrasil = bs_time.strftime('%Y-%m-%d_%H-%M-%S') \n",
        "#print(bs_time)\n",
        "mes = bs_time.strftime('%m')\n",
        "mes = int(mes)"
      ]
    },
    {
      "cell_type": "markdown",
      "metadata": {
        "id": "OH7YP6T3fBAD"
      },
      "source": [
        "Obtendo informações:"
      ]
    },
    {
      "cell_type": "code",
      "execution_count": null,
      "metadata": {
        "id": "L_iy8wDFh6Tm"
      },
      "outputs": [],
      "source": [
        "headers = {\"User-Agent\": \"Mozilla/5.0 (Windows NT 10.0; Win64; x64) AppleWebKit/537.36 (KHTML, like Gecko) Chrome/70.0.3538.77 Safari/537.36\"}"
      ]
    },
    {
      "cell_type": "markdown",
      "source": [
        "#1ª fonte de dados: dados atualizados (Clima Tempo)\n",
        "\n",
        "---"
      ],
      "metadata": {
        "id": "8i3Ifdh0VubH"
      }
    },
    {
      "cell_type": "code",
      "execution_count": null,
      "metadata": {
        "id": "XsVxSHrRP5Qp"
      },
      "outputs": [],
      "source": [
        "URL = 'https://www.climatempo.com.br/previsao-do-tempo/agora/cidade/366/santamaria-rs'"
      ]
    },
    {
      "cell_type": "code",
      "execution_count": null,
      "metadata": {
        "id": "bolNGidSfEAz"
      },
      "outputs": [],
      "source": [
        "response = requests.get(URL, headers = headers).content"
      ]
    },
    {
      "cell_type": "code",
      "execution_count": null,
      "metadata": {
        "id": "b94MB49OLsLq"
      },
      "outputs": [],
      "source": [
        "soup = bs(response, 'html.parser')"
      ]
    },
    {
      "cell_type": "code",
      "execution_count": null,
      "metadata": {
        "id": "U-D4DajyO-7Q"
      },
      "outputs": [],
      "source": [
        "#obtem informacoes\n",
        "temperaturaAtual = soup.find(\"div\", class_= \"_flex _justify-center _align-center\").get_text(' ', strip = True)\n",
        "descricaoAtual = soup.find(\"span\", class_= \"col\").text"
      ]
    },
    {
      "cell_type": "code",
      "execution_count": null,
      "metadata": {
        "id": "Oc3gLuNwaB4N"
      },
      "outputs": [],
      "source": [
        "#para obter sensacao termica atual\n",
        "descricaoAtual2 = soup.find(\"div\", class_= \"no-gutters -gray _flex _justify-center _margin-t-20 _padding-b-20 _border-b-light-1\")"
      ]
    },
    {
      "cell_type": "code",
      "execution_count": null,
      "metadata": {
        "id": "pUKMqHhkaa3q"
      },
      "outputs": [],
      "source": [
        "sensacaoAtual = descricaoAtual2.find(\"span\", class_ = \"\").text"
      ]
    },
    {
      "cell_type": "code",
      "execution_count": null,
      "metadata": {
        "id": "thVvwa_UUEfQ"
      },
      "outputs": [],
      "source": [
        "detalhesAtual = soup.find(\"ul\", class_= \"variables-list _border-b-light-1\").get_text(' ', strip = True)"
      ]
    },
    {
      "cell_type": "code",
      "execution_count": null,
      "metadata": {
        "colab": {
          "base_uri": "https://localhost:8080/",
          "height": 36
        },
        "id": "8z2CkfAvzw6J",
        "outputId": "430ec91d-706b-4404-fa3a-9a9356b6f6b3"
      },
      "outputs": [
        {
          "output_type": "execute_result",
          "data": {
            "text/plain": [
              "'Vento E - 13km/h Umidade 88% Pressão 1004hPa'"
            ],
            "application/vnd.google.colaboratory.intrinsic+json": {
              "type": "string"
            }
          },
          "metadata": {},
          "execution_count": 13
        }
      ],
      "source": [
        "detalhesAtual"
      ]
    },
    {
      "cell_type": "code",
      "execution_count": null,
      "metadata": {
        "id": "HbjE2XMgVWSD"
      },
      "outputs": [],
      "source": [
        "detalhesAtual = detalhesAtual.replace('Vento', '').replace('Umidade', ',').replace('Pressão', ',').strip().split(',')\n",
        "ventoAtual = detalhesAtual[0].strip()\n",
        "umidadeAtual = detalhesAtual[1].strip()\n",
        "pressaoAtual = detalhesAtual[2].strip()"
      ]
    },
    {
      "cell_type": "markdown",
      "metadata": {
        "id": "jXniwqvgz-ap"
      },
      "source": [
        "#Criando Pandas Dataframe:\n",
        "(Com dados do primeiro soup.find)\n",
        "\n",
        "1. criar um dicionário com Arrays;\n",
        "2. transformar em pd.DataFrame(dicionario)\n"
      ]
    },
    {
      "cell_type": "code",
      "execution_count": null,
      "metadata": {
        "colab": {
          "base_uri": "https://localhost:8080/"
        },
        "id": "w5150Mza2vHs",
        "outputId": "48358bae-15ae-418c-d4fa-bea78e65091d"
      },
      "outputs": [
        {
          "output_type": "stream",
          "name": "stdout",
          "text": [
            "Santa Maria - \t 2022-07-15_16-22-51\n",
            "Temperatura:\t 19º\n",
            "Sensação:\t 19°\n",
            "Descrição:\t Muitas nuvens\n",
            "Vento:\t\t E - 13km/h\n",
            "Umidade:\t 88%\n",
            "Pressão:\t 1004hPa\n"
          ]
        }
      ],
      "source": [
        "print ('Santa Maria - \\t', timestampBrasil)\n",
        "print('Temperatura:\\t', temperaturaAtual)\n",
        "print('Sensação:\\t', sensacaoAtual[-3:])\n",
        "print('Descrição:\\t', descricaoAtual)\n",
        "print('Vento:\\t\\t',ventoAtual)\n",
        "print('Umidade:\\t',umidadeAtual)\n",
        "print('Pressão:\\t',pressaoAtual)"
      ]
    },
    {
      "cell_type": "code",
      "execution_count": null,
      "metadata": {
        "id": "bjSDZALYz7Zc"
      },
      "outputs": [],
      "source": [
        "dictCidade = {'Vento' : [ventoAtual],\n",
        "              'Umidade' : [umidadeAtual],\n",
        "              'Pressão' : [pressaoAtual]}"
      ]
    },
    {
      "cell_type": "code",
      "execution_count": null,
      "metadata": {
        "colab": {
          "base_uri": "https://localhost:8080/",
          "height": 81
        },
        "id": "ckntc5Yz3zyB",
        "outputId": "9ad39691-ec53-4df9-a807-6e6f7ef93d1b"
      },
      "outputs": [
        {
          "output_type": "execute_result",
          "data": {
            "text/plain": [
              "        Vento Umidade  Pressão\n",
              "0  E - 13km/h     88%  1004hPa"
            ],
            "text/html": [
              "\n",
              "  <div id=\"df-c530b450-5401-4735-907a-0586d597b8e6\">\n",
              "    <div class=\"colab-df-container\">\n",
              "      <div>\n",
              "<style scoped>\n",
              "    .dataframe tbody tr th:only-of-type {\n",
              "        vertical-align: middle;\n",
              "    }\n",
              "\n",
              "    .dataframe tbody tr th {\n",
              "        vertical-align: top;\n",
              "    }\n",
              "\n",
              "    .dataframe thead th {\n",
              "        text-align: right;\n",
              "    }\n",
              "</style>\n",
              "<table border=\"1\" class=\"dataframe\">\n",
              "  <thead>\n",
              "    <tr style=\"text-align: right;\">\n",
              "      <th></th>\n",
              "      <th>Vento</th>\n",
              "      <th>Umidade</th>\n",
              "      <th>Pressão</th>\n",
              "    </tr>\n",
              "  </thead>\n",
              "  <tbody>\n",
              "    <tr>\n",
              "      <th>0</th>\n",
              "      <td>E - 13km/h</td>\n",
              "      <td>88%</td>\n",
              "      <td>1004hPa</td>\n",
              "    </tr>\n",
              "  </tbody>\n",
              "</table>\n",
              "</div>\n",
              "      <button class=\"colab-df-convert\" onclick=\"convertToInteractive('df-c530b450-5401-4735-907a-0586d597b8e6')\"\n",
              "              title=\"Convert this dataframe to an interactive table.\"\n",
              "              style=\"display:none;\">\n",
              "        \n",
              "  <svg xmlns=\"http://www.w3.org/2000/svg\" height=\"24px\"viewBox=\"0 0 24 24\"\n",
              "       width=\"24px\">\n",
              "    <path d=\"M0 0h24v24H0V0z\" fill=\"none\"/>\n",
              "    <path d=\"M18.56 5.44l.94 2.06.94-2.06 2.06-.94-2.06-.94-.94-2.06-.94 2.06-2.06.94zm-11 1L8.5 8.5l.94-2.06 2.06-.94-2.06-.94L8.5 2.5l-.94 2.06-2.06.94zm10 10l.94 2.06.94-2.06 2.06-.94-2.06-.94-.94-2.06-.94 2.06-2.06.94z\"/><path d=\"M17.41 7.96l-1.37-1.37c-.4-.4-.92-.59-1.43-.59-.52 0-1.04.2-1.43.59L10.3 9.45l-7.72 7.72c-.78.78-.78 2.05 0 2.83L4 21.41c.39.39.9.59 1.41.59.51 0 1.02-.2 1.41-.59l7.78-7.78 2.81-2.81c.8-.78.8-2.07 0-2.86zM5.41 20L4 18.59l7.72-7.72 1.47 1.35L5.41 20z\"/>\n",
              "  </svg>\n",
              "      </button>\n",
              "      \n",
              "  <style>\n",
              "    .colab-df-container {\n",
              "      display:flex;\n",
              "      flex-wrap:wrap;\n",
              "      gap: 12px;\n",
              "    }\n",
              "\n",
              "    .colab-df-convert {\n",
              "      background-color: #E8F0FE;\n",
              "      border: none;\n",
              "      border-radius: 50%;\n",
              "      cursor: pointer;\n",
              "      display: none;\n",
              "      fill: #1967D2;\n",
              "      height: 32px;\n",
              "      padding: 0 0 0 0;\n",
              "      width: 32px;\n",
              "    }\n",
              "\n",
              "    .colab-df-convert:hover {\n",
              "      background-color: #E2EBFA;\n",
              "      box-shadow: 0px 1px 2px rgba(60, 64, 67, 0.3), 0px 1px 3px 1px rgba(60, 64, 67, 0.15);\n",
              "      fill: #174EA6;\n",
              "    }\n",
              "\n",
              "    [theme=dark] .colab-df-convert {\n",
              "      background-color: #3B4455;\n",
              "      fill: #D2E3FC;\n",
              "    }\n",
              "\n",
              "    [theme=dark] .colab-df-convert:hover {\n",
              "      background-color: #434B5C;\n",
              "      box-shadow: 0px 1px 3px 1px rgba(0, 0, 0, 0.15);\n",
              "      filter: drop-shadow(0px 1px 2px rgba(0, 0, 0, 0.3));\n",
              "      fill: #FFFFFF;\n",
              "    }\n",
              "  </style>\n",
              "\n",
              "      <script>\n",
              "        const buttonEl =\n",
              "          document.querySelector('#df-c530b450-5401-4735-907a-0586d597b8e6 button.colab-df-convert');\n",
              "        buttonEl.style.display =\n",
              "          google.colab.kernel.accessAllowed ? 'block' : 'none';\n",
              "\n",
              "        async function convertToInteractive(key) {\n",
              "          const element = document.querySelector('#df-c530b450-5401-4735-907a-0586d597b8e6');\n",
              "          const dataTable =\n",
              "            await google.colab.kernel.invokeFunction('convertToInteractive',\n",
              "                                                     [key], {});\n",
              "          if (!dataTable) return;\n",
              "\n",
              "          const docLinkHtml = 'Like what you see? Visit the ' +\n",
              "            '<a target=\"_blank\" href=https://colab.research.google.com/notebooks/data_table.ipynb>data table notebook</a>'\n",
              "            + ' to learn more about interactive tables.';\n",
              "          element.innerHTML = '';\n",
              "          dataTable['output_type'] = 'display_data';\n",
              "          await google.colab.output.renderOutput(dataTable, element);\n",
              "          const docLink = document.createElement('div');\n",
              "          docLink.innerHTML = docLinkHtml;\n",
              "          element.appendChild(docLink);\n",
              "        }\n",
              "      </script>\n",
              "    </div>\n",
              "  </div>\n",
              "  "
            ]
          },
          "metadata": {},
          "execution_count": 17
        }
      ],
      "source": [
        "df_dictCidade = pd.DataFrame(dictCidade)\n",
        "df_dictCidade"
      ]
    },
    {
      "cell_type": "markdown",
      "metadata": {
        "id": "7tMjvVYXq-Me"
      },
      "source": [
        "#2ª fonte de dados: dados históricos\n",
        "\n",
        "---\n",
        "\n",
        "\n",
        "Adicionar comparativo com histórico de temperatura obtido em: \n",
        "\n",
        "https://pt.climate-data.org/america-do-sul/brasil/rio-grande-do-sul/santa-maria-4498/#climate-graph"
      ]
    },
    {
      "cell_type": "code",
      "execution_count": null,
      "metadata": {
        "id": "meQiRpHf5vXJ"
      },
      "outputs": [],
      "source": [
        "URL2 = 'https://pt.climate-data.org/america-do-sul/brasil/rio-grande-do-sul/santa-maria-4498/#climate-graph'"
      ]
    },
    {
      "cell_type": "code",
      "execution_count": null,
      "metadata": {
        "id": "2wUPo1ly5EvT"
      },
      "outputs": [],
      "source": [
        "response2 = requests.get(URL2, headers = headers).content"
      ]
    },
    {
      "cell_type": "code",
      "execution_count": null,
      "metadata": {
        "id": "KT2TLnpz527s"
      },
      "outputs": [],
      "source": [
        "soup2 = bs(response2, 'html.parser')"
      ]
    },
    {
      "cell_type": "code",
      "execution_count": null,
      "metadata": {
        "id": "TeJ0-afS55sc"
      },
      "outputs": [],
      "source": [
        "tabela = soup2.find(\"table\", id=\"weather_table\").find_all(\"tr\")"
      ]
    },
    {
      "cell_type": "markdown",
      "metadata": {
        "id": "yopisjn99CK1"
      },
      "source": [
        "modelo do dicionario para Pandas DataFrame: \n",
        "\n",
        "```\n",
        "df_dictCidadeHistorico = { \"tempMedia\" : [24.4, 24,1],\n",
        "\"tempMinima\" : [12, 14],\n",
        "\"nomes\" : ['janeiro', 'fevereiro']\n",
        "}\n",
        "```\n",
        "\n"
      ]
    },
    {
      "cell_type": "code",
      "execution_count": null,
      "metadata": {
        "colab": {
          "base_uri": "https://localhost:8080/"
        },
        "id": "OsKsTlfPBQG7",
        "outputId": "1e267a27-aa45-4f59-c837-68f91564181d"
      },
      "outputs": [
        {
          "output_type": "execute_result",
          "data": {
            "text/plain": [
              "[<tr>\n",
              " <th> </th>\n",
              " <th>Janeiro</th>\n",
              " <th>Fevereiro</th>\n",
              " <th>Março</th>\n",
              " <th>Abril</th>\n",
              " <th>Maio</th>\n",
              " <th>Junho</th>\n",
              " <th>Julho</th>\n",
              " <th>Agosto</th>\n",
              " <th>Setembro</th>\n",
              " <th>Outubro</th>\n",
              " <th>Novembro</th>\n",
              " <th>Dezembro</th>\n",
              " </tr>, <tr>\n",
              " <td>Temperatura média (°C)</td>\n",
              " <td style=\"background: #FF6347 ;\">\n",
              " 24.4\n",
              " </td>\n",
              " <td style=\"background: #FF6347 ;\">\n",
              " 24.1\n",
              " </td>\n",
              " <td style=\"background: #FF8C00 ;\">\n",
              " 22.6\n",
              " </td>\n",
              " <td style=\"background: #FF8C00 ;\">\n",
              " 19.5\n",
              " </td>\n",
              " <td style=\"background: #FFA500 ;\">\n",
              " 15.7\n",
              " </td>\n",
              " <td style=\"background: #FFCC66 ;\">\n",
              " 14\n",
              " </td>\n",
              " <td style=\"background: #FFCC66 ;\">\n",
              " 13.1\n",
              " </td>\n",
              " <td style=\"background: #FFCC66 ;\">\n",
              " 14.8\n",
              " </td>\n",
              " <td style=\"background: #FFA500 ;\">\n",
              " 16.4\n",
              " </td>\n",
              " <td style=\"background: #FFA500 ;\">\n",
              " 18.9\n",
              " </td>\n",
              " <td style=\"background: #FF8C00 ;\">\n",
              " 20.9\n",
              " </td>\n",
              " <td style=\"background: #FF8C00 ;\">\n",
              " 23.4\n",
              " </td>\n",
              " </tr>, <tr>\n",
              " <td>Temperatura mínima (°C)</td>\n",
              " <td style=\"background: #FF8C00 ;\">\n",
              " 19.9\n",
              " </td>\n",
              " <td style=\"background: #FF8C00 ;\">\n",
              " 19.8\n",
              " </td>\n",
              " <td style=\"background: #FFA500 ;\">\n",
              " 18.3\n",
              " </td>\n",
              " <td style=\"background: #FFA500 ;\">\n",
              " 15.4\n",
              " </td>\n",
              " <td style=\"background: #FFCC66 ;\">\n",
              " 11.9\n",
              " </td>\n",
              " <td style=\"background: #FFCC66 ;\">\n",
              " 10.2\n",
              " </td>\n",
              " <td style=\"background: #FFFF99 ;\">\n",
              " 8.9\n",
              " </td>\n",
              " <td style=\"background: #FFCC66 ;\">\n",
              " 10.3\n",
              " </td>\n",
              " <td style=\"background: #FFCC66 ;\">\n",
              " 11.8\n",
              " </td>\n",
              " <td style=\"background: #FFCC66 ;\">\n",
              " 14.4\n",
              " </td>\n",
              " <td style=\"background: #FFA500 ;\">\n",
              " 15.8\n",
              " </td>\n",
              " <td style=\"background: #FFA500 ;\">\n",
              " 18.3\n",
              " </td>\n",
              " </tr>, <tr>\n",
              " <td>Temperatura máxima (°C)</td>\n",
              " <td style=\"background: #FF4040 ;\">\n",
              " 29.4\n",
              " </td>\n",
              " <td style=\"background: #FF6347 ;\">\n",
              " 28.9\n",
              " </td>\n",
              " <td style=\"background: #FF6347 ;\">\n",
              " 27.5\n",
              " </td>\n",
              " <td style=\"background: #FF6347 ;\">\n",
              " 24.4\n",
              " </td>\n",
              " <td style=\"background: #FF8C00 ;\">\n",
              " 20.3\n",
              " </td>\n",
              " <td style=\"background: #FFA500 ;\">\n",
              " 18.7\n",
              " </td>\n",
              " <td style=\"background: #FFA500 ;\">\n",
              " 18.2\n",
              "  </td>\n",
              " <td style=\"background: #FF8C00 ;\">\n",
              " 20.4\n",
              " </td>\n",
              " <td style=\"background: #FF8C00 ;\">\n",
              " 21.6\n",
              " </td>\n",
              " <td style=\"background: #FF8C00 ;\">\n",
              " 24\n",
              " </td>\n",
              " <td style=\"background: #FF6347 ;\">\n",
              " 26.3\n",
              " </td>\n",
              " <td style=\"background: #FF6347 ;\">\n",
              " 28.7\n",
              " </td>\n",
              " </tr>, <tr>\n",
              " <td>Chuva (mm)</td>\n",
              " <td style=\"background: #828BD9 ;\">\n",
              " 164\n",
              " </td>\n",
              " <td style=\"background: #828BD9 ;\">\n",
              " 154\n",
              " </td>\n",
              " <td style=\"background: #828BD9 ;\">\n",
              " 134\n",
              " </td>\n",
              " <td style=\"background: #828BD9 ;\">\n",
              " 159\n",
              " </td>\n",
              " <td style=\"background: #828BD9 ;\">\n",
              " 126\n",
              " </td>\n",
              " <td style=\"background: #828BD9 ;\">\n",
              " 136\n",
              " </td>\n",
              " <td style=\"background: #828BD9 ;\">\n",
              " 149\n",
              " </td>\n",
              " <td style=\"background: #828BD9 ;\">\n",
              " 123\n",
              " </td>\n",
              " <td style=\"background: #828BD9 ;\">\n",
              " 164\n",
              " </td>\n",
              " <td style=\"background: #607CD2 ;\">\n",
              " 215\n",
              " </td>\n",
              " <td style=\"background: #828BD9 ;\">\n",
              " 150\n",
              " </td>\n",
              " <td style=\"background: #828BD9 ;\">\n",
              " 164\n",
              " </td>\n",
              " </tr>, <tr>\n",
              " <td>Umidade(%)</td>\n",
              " <td style=\"background: #F0F8FF ;\">73&amp;percnt</td>\n",
              " <td style=\"background: #F0F8FF ;\">76&amp;percnt</td>\n",
              " <td style=\"background: #F0F8FF ;\">76&amp;percnt</td>\n",
              " <td style=\"background: #F0F8FF ;\">79&amp;percnt</td>\n",
              " <td style=\"background: #8AB0FF ;\">81&amp;percnt</td>\n",
              " <td style=\"background: #8AB0FF ;\">83&amp;percnt</td>\n",
              " <td style=\"background: #8AB0FF ;\">82&amp;percnt</td>\n",
              " <td style=\"background: #F0F8FF ;\">79&amp;percnt</td>\n",
              " <td style=\"background: #F0F8FF ;\">78&amp;percnt</td>\n",
              " <td style=\"background: #F0F8FF ;\">78&amp;percnt</td>\n",
              " <td style=\"background: #F0F8FF ;\">73&amp;percnt</td>\n",
              " <td style=\"background: #F0F8FF ;\">71&amp;percnt</td>\n",
              " </tr>, <tr>\n",
              " <td>Dias chuvosos (d)</td>\n",
              " <td style=\"background: #9FC1DF ;\">10</td>\n",
              " <td style=\"background: #9FC1DF ;\">10</td>\n",
              " <td style=\"background: #9FC1DF ;\">9</td>\n",
              " <td style=\"background: #9FC1DF ;\">8</td>\n",
              " <td style=\"background: #9FC1DF ;\">7</td>\n",
              " <td style=\"background: #9FC1DF ;\">7</td>\n",
              " <td style=\"background: #9FC1DF ;\">7</td>\n",
              " <td style=\"background: #9FC1DF ;\">7</td>\n",
              " <td style=\"background: #9FC1DF ;\">8</td>\n",
              " <td style=\"background: #9FC1DF ;\">9</td>\n",
              " <td style=\"background: #9FC1DF ;\">8</td>\n",
              " <td style=\"background: #9FC1DF ;\">9</td>\n",
              " </tr>, <tr>\n",
              " <td>Horas de sol (h)</td>\n",
              " <td style=\"background: #FFA500 ;\">9.2</td>\n",
              " <td style=\"background: #FFA500 ;\">8.7</td>\n",
              " <td style=\"background: #FFCC66 ;\">7.6</td>\n",
              " <td style=\"background: #FFCC66 ;\">7.0</td>\n",
              " <td style=\"background: #FFFF99 ;\">6.0</td>\n",
              " <td style=\"background: #FFFF99 ;\">5.9</td>\n",
              " <td style=\"background: #FFCC66 ;\">6.4</td>\n",
              " <td style=\"background: #FFCC66 ;\">7.1</td>\n",
              " <td style=\"background: #FFCC66 ;\">6.9</td>\n",
              " <td style=\"background: #FFCC66 ;\">7.4</td>\n",
              " <td style=\"background: #FFA500 ;\">8.9</td>\n",
              " <td style=\"background: #FFA500 ;\">9.7</td>\n",
              " </tr>]"
            ]
          },
          "metadata": {},
          "execution_count": 22
        }
      ],
      "source": [
        "tabela"
      ]
    },
    {
      "cell_type": "code",
      "execution_count": null,
      "metadata": {
        "colab": {
          "base_uri": "https://localhost:8080/"
        },
        "id": "-P1qUopEAR1l",
        "outputId": "9ad2f1ab-9563-40e9-e1f3-edab842f0c63"
      },
      "outputs": [
        {
          "output_type": "execute_result",
          "data": {
            "text/plain": [
              "8"
            ]
          },
          "metadata": {},
          "execution_count": 23
        }
      ],
      "source": [
        "len(tabela)"
      ]
    },
    {
      "cell_type": "code",
      "execution_count": null,
      "metadata": {
        "id": "FStMXPRNDXqH"
      },
      "outputs": [],
      "source": [
        ""
      ]
    },
    {
      "cell_type": "code",
      "execution_count": null,
      "metadata": {
        "id": "SbO9lCBRIU-a"
      },
      "outputs": [],
      "source": [
        ""
      ]
    },
    {
      "cell_type": "code",
      "execution_count": null,
      "metadata": {
        "id": "ZrYW0BP5FQ1b"
      },
      "outputs": [],
      "source": [
        "mesesTitulo = []\n",
        "for i in tabela[0].find_all(\"th\"):\n",
        "  mesesTitulo.append(i.get_text(' ', strip=True))\n",
        "mesesTitulo.pop(0)\n",
        "mesesTitulo\n",
        "\n",
        "colunasTabela = len(tabela[0].find_all(\"th\"))\n",
        "colunasTabela\n",
        "\n",
        "\n",
        "linhasTabela = len(tabela) \n",
        "dadosTitulo = []\n",
        "dadosTabela = []\n",
        "\n",
        "for i in range(1, linhasTabela):   #percorre as linhas da tabela\n",
        "  linhaTabela = []\n",
        "  #print(\"===\")\n",
        "  tituloLinha = tabela[i].find_all(\"td\")[0].get_text(' ', strip=True)\n",
        "  #print(tituloLinha)\n",
        "  dadosTitulo.append(tituloLinha)\n",
        "  linhaTabela.append(tituloLinha)\n",
        "\n",
        "  for j in range(1, colunasTabela):\n",
        "    \n",
        "    \n",
        "    conteudoCelula = tabela[i].find_all(\"td\")[j].get_text(' ', strip=True).replace('&percnt','')\n",
        "    #print(conteudoCelula, ' linha', i, 'coluna', j)\n",
        "    try:\n",
        "      linhaTabela.append(int(conteudoCelula)) #armazena os dados das celulas no array linhaTabela\n",
        "    except:\n",
        "      linhaTabela.append(float(conteudoCelula)) #armazena os dados das celulas no array linhaTabela\n",
        "\n",
        "  dadosTabela.append(linhaTabela)     #armazena o array linhaTabela no array dadosTabela\n",
        "\n",
        "mesesTitulo.insert(0,'Meses')\n",
        "dadosTabela.append(mesesTitulo)\n"
      ]
    },
    {
      "cell_type": "code",
      "execution_count": null,
      "metadata": {
        "colab": {
          "base_uri": "https://localhost:8080/"
        },
        "id": "ucrPfPBe9Xml",
        "outputId": "e8fd36b7-8a87-4d08-a076-4c01ef8a437d"
      },
      "outputs": [
        {
          "output_type": "execute_result",
          "data": {
            "text/plain": [
              "[['Temperatura média (°C)',\n",
              "  24.4,\n",
              "  24.1,\n",
              "  22.6,\n",
              "  19.5,\n",
              "  15.7,\n",
              "  14,\n",
              "  13.1,\n",
              "  14.8,\n",
              "  16.4,\n",
              "  18.9,\n",
              "  20.9,\n",
              "  23.4],\n",
              " ['Temperatura mínima (°C)',\n",
              "  19.9,\n",
              "  19.8,\n",
              "  18.3,\n",
              "  15.4,\n",
              "  11.9,\n",
              "  10.2,\n",
              "  8.9,\n",
              "  10.3,\n",
              "  11.8,\n",
              "  14.4,\n",
              "  15.8,\n",
              "  18.3],\n",
              " ['Temperatura máxima (°C)',\n",
              "  29.4,\n",
              "  28.9,\n",
              "  27.5,\n",
              "  24.4,\n",
              "  20.3,\n",
              "  18.7,\n",
              "  18.2,\n",
              "  20.4,\n",
              "  21.6,\n",
              "  24,\n",
              "  26.3,\n",
              "  28.7],\n",
              " ['Chuva (mm)', 164, 154, 134, 159, 126, 136, 149, 123, 164, 215, 150, 164],\n",
              " ['Umidade(%)', 73, 76, 76, 79, 81, 83, 82, 79, 78, 78, 73, 71],\n",
              " ['Dias chuvosos (d)', 10, 10, 9, 8, 7, 7, 7, 7, 8, 9, 8, 9],\n",
              " ['Horas de sol (h)',\n",
              "  9.2,\n",
              "  8.7,\n",
              "  7.6,\n",
              "  7.0,\n",
              "  6.0,\n",
              "  5.9,\n",
              "  6.4,\n",
              "  7.1,\n",
              "  6.9,\n",
              "  7.4,\n",
              "  8.9,\n",
              "  9.7],\n",
              " ['Meses',\n",
              "  'Janeiro',\n",
              "  'Fevereiro',\n",
              "  'Março',\n",
              "  'Abril',\n",
              "  'Maio',\n",
              "  'Junho',\n",
              "  'Julho',\n",
              "  'Agosto',\n",
              "  'Setembro',\n",
              "  'Outubro',\n",
              "  'Novembro',\n",
              "  'Dezembro']]"
            ]
          },
          "metadata": {},
          "execution_count": 25
        }
      ],
      "source": [
        "dadosTabela"
      ]
    },
    {
      "cell_type": "code",
      "execution_count": null,
      "metadata": {
        "id": "zBJYXR6V9JFO"
      },
      "outputs": [],
      "source": [
        "dictTemperaturas = {}"
      ]
    },
    {
      "cell_type": "code",
      "execution_count": null,
      "metadata": {
        "id": "YDakH77O67ek"
      },
      "outputs": [],
      "source": [
        "for i in dadosTabela:\n",
        "  indice = i.pop(0)\n",
        "  dictTemperaturas[indice] = i"
      ]
    },
    {
      "cell_type": "code",
      "execution_count": null,
      "metadata": {
        "colab": {
          "base_uri": "https://localhost:8080/"
        },
        "id": "dz376b5-6taH",
        "outputId": "c97e6889-a976-49a0-d1f9-b46280a5a194"
      },
      "outputs": [
        {
          "output_type": "execute_result",
          "data": {
            "text/plain": [
              "{'Chuva (mm)': [164, 154, 134, 159, 126, 136, 149, 123, 164, 215, 150, 164],\n",
              " 'Dias chuvosos (d)': [10, 10, 9, 8, 7, 7, 7, 7, 8, 9, 8, 9],\n",
              " 'Horas de sol (h)': [9.2,\n",
              "  8.7,\n",
              "  7.6,\n",
              "  7.0,\n",
              "  6.0,\n",
              "  5.9,\n",
              "  6.4,\n",
              "  7.1,\n",
              "  6.9,\n",
              "  7.4,\n",
              "  8.9,\n",
              "  9.7],\n",
              " 'Meses': ['Janeiro',\n",
              "  'Fevereiro',\n",
              "  'Março',\n",
              "  'Abril',\n",
              "  'Maio',\n",
              "  'Junho',\n",
              "  'Julho',\n",
              "  'Agosto',\n",
              "  'Setembro',\n",
              "  'Outubro',\n",
              "  'Novembro',\n",
              "  'Dezembro'],\n",
              " 'Temperatura máxima (°C)': [29.4,\n",
              "  28.9,\n",
              "  27.5,\n",
              "  24.4,\n",
              "  20.3,\n",
              "  18.7,\n",
              "  18.2,\n",
              "  20.4,\n",
              "  21.6,\n",
              "  24,\n",
              "  26.3,\n",
              "  28.7],\n",
              " 'Temperatura média (°C)': [24.4,\n",
              "  24.1,\n",
              "  22.6,\n",
              "  19.5,\n",
              "  15.7,\n",
              "  14,\n",
              "  13.1,\n",
              "  14.8,\n",
              "  16.4,\n",
              "  18.9,\n",
              "  20.9,\n",
              "  23.4],\n",
              " 'Temperatura mínima (°C)': [19.9,\n",
              "  19.8,\n",
              "  18.3,\n",
              "  15.4,\n",
              "  11.9,\n",
              "  10.2,\n",
              "  8.9,\n",
              "  10.3,\n",
              "  11.8,\n",
              "  14.4,\n",
              "  15.8,\n",
              "  18.3],\n",
              " 'Umidade(%)': [73, 76, 76, 79, 81, 83, 82, 79, 78, 78, 73, 71]}"
            ]
          },
          "metadata": {},
          "execution_count": 28
        }
      ],
      "source": [
        "dictTemperaturas"
      ]
    },
    {
      "cell_type": "code",
      "execution_count": null,
      "metadata": {
        "id": "9HHzgodgRno4"
      },
      "outputs": [],
      "source": [
        "df_dictTemperaturas = pd.DataFrame(dictTemperaturas)"
      ]
    },
    {
      "cell_type": "code",
      "execution_count": null,
      "metadata": {
        "colab": {
          "base_uri": "https://localhost:8080/",
          "height": 487
        },
        "id": "T_WeNbke_3Gp",
        "outputId": "5ddbcf2c-afd9-4a93-947b-87d7b7ba7cf4"
      },
      "outputs": [
        {
          "output_type": "execute_result",
          "data": {
            "text/plain": [
              "    Temperatura média (°C)  Temperatura mínima (°C)  Temperatura máxima (°C)  \\\n",
              "0                     24.4                     19.9                     29.4   \n",
              "1                     24.1                     19.8                     28.9   \n",
              "2                     22.6                     18.3                     27.5   \n",
              "3                     19.5                     15.4                     24.4   \n",
              "4                     15.7                     11.9                     20.3   \n",
              "5                     14.0                     10.2                     18.7   \n",
              "6                     13.1                      8.9                     18.2   \n",
              "7                     14.8                     10.3                     20.4   \n",
              "8                     16.4                     11.8                     21.6   \n",
              "9                     18.9                     14.4                     24.0   \n",
              "10                    20.9                     15.8                     26.3   \n",
              "11                    23.4                     18.3                     28.7   \n",
              "\n",
              "    Chuva (mm)  Umidade(%)  Dias chuvosos (d)  Horas de sol (h)      Meses  \n",
              "0          164          73                 10               9.2    Janeiro  \n",
              "1          154          76                 10               8.7  Fevereiro  \n",
              "2          134          76                  9               7.6      Março  \n",
              "3          159          79                  8               7.0      Abril  \n",
              "4          126          81                  7               6.0       Maio  \n",
              "5          136          83                  7               5.9      Junho  \n",
              "6          149          82                  7               6.4      Julho  \n",
              "7          123          79                  7               7.1     Agosto  \n",
              "8          164          78                  8               6.9   Setembro  \n",
              "9          215          78                  9               7.4    Outubro  \n",
              "10         150          73                  8               8.9   Novembro  \n",
              "11         164          71                  9               9.7   Dezembro  "
            ],
            "text/html": [
              "\n",
              "  <div id=\"df-1428cc4e-6755-44f3-9b69-e72a5cd1b9f6\">\n",
              "    <div class=\"colab-df-container\">\n",
              "      <div>\n",
              "<style scoped>\n",
              "    .dataframe tbody tr th:only-of-type {\n",
              "        vertical-align: middle;\n",
              "    }\n",
              "\n",
              "    .dataframe tbody tr th {\n",
              "        vertical-align: top;\n",
              "    }\n",
              "\n",
              "    .dataframe thead th {\n",
              "        text-align: right;\n",
              "    }\n",
              "</style>\n",
              "<table border=\"1\" class=\"dataframe\">\n",
              "  <thead>\n",
              "    <tr style=\"text-align: right;\">\n",
              "      <th></th>\n",
              "      <th>Temperatura média (°C)</th>\n",
              "      <th>Temperatura mínima (°C)</th>\n",
              "      <th>Temperatura máxima (°C)</th>\n",
              "      <th>Chuva (mm)</th>\n",
              "      <th>Umidade(%)</th>\n",
              "      <th>Dias chuvosos (d)</th>\n",
              "      <th>Horas de sol (h)</th>\n",
              "      <th>Meses</th>\n",
              "    </tr>\n",
              "  </thead>\n",
              "  <tbody>\n",
              "    <tr>\n",
              "      <th>0</th>\n",
              "      <td>24.4</td>\n",
              "      <td>19.9</td>\n",
              "      <td>29.4</td>\n",
              "      <td>164</td>\n",
              "      <td>73</td>\n",
              "      <td>10</td>\n",
              "      <td>9.2</td>\n",
              "      <td>Janeiro</td>\n",
              "    </tr>\n",
              "    <tr>\n",
              "      <th>1</th>\n",
              "      <td>24.1</td>\n",
              "      <td>19.8</td>\n",
              "      <td>28.9</td>\n",
              "      <td>154</td>\n",
              "      <td>76</td>\n",
              "      <td>10</td>\n",
              "      <td>8.7</td>\n",
              "      <td>Fevereiro</td>\n",
              "    </tr>\n",
              "    <tr>\n",
              "      <th>2</th>\n",
              "      <td>22.6</td>\n",
              "      <td>18.3</td>\n",
              "      <td>27.5</td>\n",
              "      <td>134</td>\n",
              "      <td>76</td>\n",
              "      <td>9</td>\n",
              "      <td>7.6</td>\n",
              "      <td>Março</td>\n",
              "    </tr>\n",
              "    <tr>\n",
              "      <th>3</th>\n",
              "      <td>19.5</td>\n",
              "      <td>15.4</td>\n",
              "      <td>24.4</td>\n",
              "      <td>159</td>\n",
              "      <td>79</td>\n",
              "      <td>8</td>\n",
              "      <td>7.0</td>\n",
              "      <td>Abril</td>\n",
              "    </tr>\n",
              "    <tr>\n",
              "      <th>4</th>\n",
              "      <td>15.7</td>\n",
              "      <td>11.9</td>\n",
              "      <td>20.3</td>\n",
              "      <td>126</td>\n",
              "      <td>81</td>\n",
              "      <td>7</td>\n",
              "      <td>6.0</td>\n",
              "      <td>Maio</td>\n",
              "    </tr>\n",
              "    <tr>\n",
              "      <th>5</th>\n",
              "      <td>14.0</td>\n",
              "      <td>10.2</td>\n",
              "      <td>18.7</td>\n",
              "      <td>136</td>\n",
              "      <td>83</td>\n",
              "      <td>7</td>\n",
              "      <td>5.9</td>\n",
              "      <td>Junho</td>\n",
              "    </tr>\n",
              "    <tr>\n",
              "      <th>6</th>\n",
              "      <td>13.1</td>\n",
              "      <td>8.9</td>\n",
              "      <td>18.2</td>\n",
              "      <td>149</td>\n",
              "      <td>82</td>\n",
              "      <td>7</td>\n",
              "      <td>6.4</td>\n",
              "      <td>Julho</td>\n",
              "    </tr>\n",
              "    <tr>\n",
              "      <th>7</th>\n",
              "      <td>14.8</td>\n",
              "      <td>10.3</td>\n",
              "      <td>20.4</td>\n",
              "      <td>123</td>\n",
              "      <td>79</td>\n",
              "      <td>7</td>\n",
              "      <td>7.1</td>\n",
              "      <td>Agosto</td>\n",
              "    </tr>\n",
              "    <tr>\n",
              "      <th>8</th>\n",
              "      <td>16.4</td>\n",
              "      <td>11.8</td>\n",
              "      <td>21.6</td>\n",
              "      <td>164</td>\n",
              "      <td>78</td>\n",
              "      <td>8</td>\n",
              "      <td>6.9</td>\n",
              "      <td>Setembro</td>\n",
              "    </tr>\n",
              "    <tr>\n",
              "      <th>9</th>\n",
              "      <td>18.9</td>\n",
              "      <td>14.4</td>\n",
              "      <td>24.0</td>\n",
              "      <td>215</td>\n",
              "      <td>78</td>\n",
              "      <td>9</td>\n",
              "      <td>7.4</td>\n",
              "      <td>Outubro</td>\n",
              "    </tr>\n",
              "    <tr>\n",
              "      <th>10</th>\n",
              "      <td>20.9</td>\n",
              "      <td>15.8</td>\n",
              "      <td>26.3</td>\n",
              "      <td>150</td>\n",
              "      <td>73</td>\n",
              "      <td>8</td>\n",
              "      <td>8.9</td>\n",
              "      <td>Novembro</td>\n",
              "    </tr>\n",
              "    <tr>\n",
              "      <th>11</th>\n",
              "      <td>23.4</td>\n",
              "      <td>18.3</td>\n",
              "      <td>28.7</td>\n",
              "      <td>164</td>\n",
              "      <td>71</td>\n",
              "      <td>9</td>\n",
              "      <td>9.7</td>\n",
              "      <td>Dezembro</td>\n",
              "    </tr>\n",
              "  </tbody>\n",
              "</table>\n",
              "</div>\n",
              "      <button class=\"colab-df-convert\" onclick=\"convertToInteractive('df-1428cc4e-6755-44f3-9b69-e72a5cd1b9f6')\"\n",
              "              title=\"Convert this dataframe to an interactive table.\"\n",
              "              style=\"display:none;\">\n",
              "        \n",
              "  <svg xmlns=\"http://www.w3.org/2000/svg\" height=\"24px\"viewBox=\"0 0 24 24\"\n",
              "       width=\"24px\">\n",
              "    <path d=\"M0 0h24v24H0V0z\" fill=\"none\"/>\n",
              "    <path d=\"M18.56 5.44l.94 2.06.94-2.06 2.06-.94-2.06-.94-.94-2.06-.94 2.06-2.06.94zm-11 1L8.5 8.5l.94-2.06 2.06-.94-2.06-.94L8.5 2.5l-.94 2.06-2.06.94zm10 10l.94 2.06.94-2.06 2.06-.94-2.06-.94-.94-2.06-.94 2.06-2.06.94z\"/><path d=\"M17.41 7.96l-1.37-1.37c-.4-.4-.92-.59-1.43-.59-.52 0-1.04.2-1.43.59L10.3 9.45l-7.72 7.72c-.78.78-.78 2.05 0 2.83L4 21.41c.39.39.9.59 1.41.59.51 0 1.02-.2 1.41-.59l7.78-7.78 2.81-2.81c.8-.78.8-2.07 0-2.86zM5.41 20L4 18.59l7.72-7.72 1.47 1.35L5.41 20z\"/>\n",
              "  </svg>\n",
              "      </button>\n",
              "      \n",
              "  <style>\n",
              "    .colab-df-container {\n",
              "      display:flex;\n",
              "      flex-wrap:wrap;\n",
              "      gap: 12px;\n",
              "    }\n",
              "\n",
              "    .colab-df-convert {\n",
              "      background-color: #E8F0FE;\n",
              "      border: none;\n",
              "      border-radius: 50%;\n",
              "      cursor: pointer;\n",
              "      display: none;\n",
              "      fill: #1967D2;\n",
              "      height: 32px;\n",
              "      padding: 0 0 0 0;\n",
              "      width: 32px;\n",
              "    }\n",
              "\n",
              "    .colab-df-convert:hover {\n",
              "      background-color: #E2EBFA;\n",
              "      box-shadow: 0px 1px 2px rgba(60, 64, 67, 0.3), 0px 1px 3px 1px rgba(60, 64, 67, 0.15);\n",
              "      fill: #174EA6;\n",
              "    }\n",
              "\n",
              "    [theme=dark] .colab-df-convert {\n",
              "      background-color: #3B4455;\n",
              "      fill: #D2E3FC;\n",
              "    }\n",
              "\n",
              "    [theme=dark] .colab-df-convert:hover {\n",
              "      background-color: #434B5C;\n",
              "      box-shadow: 0px 1px 3px 1px rgba(0, 0, 0, 0.15);\n",
              "      filter: drop-shadow(0px 1px 2px rgba(0, 0, 0, 0.3));\n",
              "      fill: #FFFFFF;\n",
              "    }\n",
              "  </style>\n",
              "\n",
              "      <script>\n",
              "        const buttonEl =\n",
              "          document.querySelector('#df-1428cc4e-6755-44f3-9b69-e72a5cd1b9f6 button.colab-df-convert');\n",
              "        buttonEl.style.display =\n",
              "          google.colab.kernel.accessAllowed ? 'block' : 'none';\n",
              "\n",
              "        async function convertToInteractive(key) {\n",
              "          const element = document.querySelector('#df-1428cc4e-6755-44f3-9b69-e72a5cd1b9f6');\n",
              "          const dataTable =\n",
              "            await google.colab.kernel.invokeFunction('convertToInteractive',\n",
              "                                                     [key], {});\n",
              "          if (!dataTable) return;\n",
              "\n",
              "          const docLinkHtml = 'Like what you see? Visit the ' +\n",
              "            '<a target=\"_blank\" href=https://colab.research.google.com/notebooks/data_table.ipynb>data table notebook</a>'\n",
              "            + ' to learn more about interactive tables.';\n",
              "          element.innerHTML = '';\n",
              "          dataTable['output_type'] = 'display_data';\n",
              "          await google.colab.output.renderOutput(dataTable, element);\n",
              "          const docLink = document.createElement('div');\n",
              "          docLink.innerHTML = docLinkHtml;\n",
              "          element.appendChild(docLink);\n",
              "        }\n",
              "      </script>\n",
              "    </div>\n",
              "  </div>\n",
              "  "
            ]
          },
          "metadata": {},
          "execution_count": 30
        }
      ],
      "source": [
        "df_dictTemperaturas"
      ]
    },
    {
      "cell_type": "markdown",
      "metadata": {
        "id": "WRi4j72XLxfp"
      },
      "source": [
        "## Agora, finalmente, podemos comparar o valor atual com os valores históricos obtidos:\n",
        "**bold text**"
      ]
    },
    {
      "cell_type": "code",
      "execution_count": null,
      "metadata": {
        "colab": {
          "base_uri": "https://localhost:8080/"
        },
        "id": "0doqDo31L3-g",
        "outputId": "29cd8fd8-5281-471b-acef-e286d3e06fae"
      },
      "outputs": [
        {
          "output_type": "stream",
          "name": "stdout",
          "text": [
            "Santa Maria - \t 2022-07-15_16-22-51\n",
            "Temperatura:\t 19º\n",
            "Sensação:\t 19°\n",
            "Descrição:\t Muitas nuvens\n",
            "Vento:\t\t E - 13km/h\n",
            "Umidade:\t 88%\n",
            "Pressão:\t 1004hPa\n"
          ]
        }
      ],
      "source": [
        "print ('Santa Maria - \\t', timestampBrasil)\n",
        "print('Temperatura:\\t', temperaturaAtual)\n",
        "print('Sensação:\\t', sensacaoAtual[-3:])\n",
        "print('Descrição:\\t', descricaoAtual)\n",
        "print('Vento:\\t\\t',ventoAtual)\n",
        "print('Umidade:\\t',umidadeAtual)\n",
        "print('Pressão:\\t',pressaoAtual)\n"
      ]
    },
    {
      "cell_type": "code",
      "execution_count": null,
      "metadata": {
        "id": "09ukoCoFH0C0"
      },
      "outputs": [],
      "source": [
        "consultaHistorico = df_dictTemperaturas.iloc[mes - 1]"
      ]
    },
    {
      "cell_type": "markdown",
      "source": [
        "# Resultados"
      ],
      "metadata": {
        "id": "9PBCThD_YF52"
      }
    },
    {
      "cell_type": "code",
      "execution_count": null,
      "metadata": {
        "colab": {
          "base_uri": "https://localhost:8080/"
        },
        "id": "R90WDNnHEgHc",
        "outputId": "2f892af5-3ef6-4659-cbae-0e7eb828cddb"
      },
      "outputs": [
        {
          "output_type": "execute_result",
          "data": {
            "text/plain": [
              "Temperatura média (°C)      13.1\n",
              "Temperatura mínima (°C)      8.9\n",
              "Temperatura máxima (°C)     18.2\n",
              "Chuva (mm)                   149\n",
              "Umidade(%)                    82\n",
              "Dias chuvosos (d)              7\n",
              "Horas de sol (h)             6.4\n",
              "Meses                      Julho\n",
              "Name: 6, dtype: object"
            ]
          },
          "metadata": {},
          "execution_count": 33
        }
      ],
      "source": [
        "consultaHistorico"
      ]
    },
    {
      "cell_type": "code",
      "execution_count": null,
      "metadata": {
        "colab": {
          "base_uri": "https://localhost:8080/"
        },
        "id": "7v71SQSEGXal",
        "outputId": "17deaa09-cbc1-47f4-f343-8fd256febc88"
      },
      "outputs": [
        {
          "output_type": "execute_result",
          "data": {
            "text/plain": [
              "82"
            ]
          },
          "metadata": {},
          "execution_count": 34
        }
      ],
      "source": [
        "consultaHistorico['Umidade(%)']"
      ]
    },
    {
      "cell_type": "markdown",
      "source": [
        ""
      ],
      "metadata": {
        "id": "2xsZRE0AYE7K"
      }
    },
    {
      "cell_type": "code",
      "execution_count": null,
      "metadata": {
        "colab": {
          "base_uri": "https://localhost:8080/"
        },
        "id": "U4Ejwiq1Eopv",
        "outputId": "636ceb5f-ae8e-45b5-c453-c43a7755d908"
      },
      "outputs": [
        {
          "output_type": "stream",
          "name": "stdout",
          "text": [
            "A temperatura atual ( 19 ) é MAIOR do que a média da temperatura máxima ( 18.2 ).\n",
            "A umidade atual ( 88 ) é MAIOR do que a média da umidade ( 82 ).\n"
          ]
        }
      ],
      "source": [
        "if (int(temperaturaAtual[:-1]) > consultaHistorico['Temperatura máxima (°C)']):\n",
        "  print('A temperatura atual (',temperaturaAtual[:-1],') é MAIOR do que a média da temperatura máxima (',consultaHistorico['Temperatura máxima (°C)'],').')\n",
        "elif (int(temperaturaAtual[:-1]) < consultaHistorico['Temperatura mínima (°C)']):\n",
        "  print('A temperatura atual (',temperaturaAtual[:-1],')é MENOR do que a média da temperatura mínima (',consultaHistorico['Temperatura mínima (°C)'],').')\n",
        "\n",
        "if (int(umidadeAtual[:-1]) > consultaHistorico['Umidade(%)']):\n",
        "  print('A umidade atual (', umidadeAtual[:-1],') é MAIOR do que a média da umidade (', consultaHistorico['Umidade(%)'], ').')\n",
        "else:\n",
        "  print('A umidade atual (', umidadeAtual[:-1],') é MENOR do que a média da umidade (', consultaHistorico['Umidade(%)'], ').')\n"
      ]
    }
  ],
  "metadata": {
    "colab": {
      "collapsed_sections": [
        "QJwQ6O7XeC-S",
        "8i3Ifdh0VubH",
        "jXniwqvgz-ap"
      ],
      "name": "Web Scraper Clima Atual vs Clima Histórico.ipynb",
      "provenance": [],
      "toc_visible": true,
      "authorship_tag": "ABX9TyODZvomw+VeHUuNPhRngzvm",
      "include_colab_link": true
    },
    "kernelspec": {
      "display_name": "Python 3",
      "name": "python3"
    },
    "language_info": {
      "name": "python"
    }
  },
  "nbformat": 4,
  "nbformat_minor": 0
}
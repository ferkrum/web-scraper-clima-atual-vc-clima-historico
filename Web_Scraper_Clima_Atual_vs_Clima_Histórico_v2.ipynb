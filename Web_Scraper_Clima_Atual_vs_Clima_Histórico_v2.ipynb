{
  "cells": [
    {
      "cell_type": "markdown",
      "metadata": {
        "id": "view-in-github",
        "colab_type": "text"
      },
      "source": [
        "<a href=\"https://colab.research.google.com/github/ferkrum/web-scraper-clima-atual-vc-clima-historico/blob/main/Web_Scraper_Clima_Atual_vs_Clima_Hist%C3%B3rico_v2.ipynb\" target=\"_parent\"><img src=\"https://colab.research.google.com/assets/colab-badge.svg\" alt=\"Open In Colab\"/></a>"
      ]
    },
    {
      "cell_type": "markdown",
      "metadata": {
        "id": "QJwQ6O7XeC-S"
      },
      "source": [
        "#Web Scraper Clima Atual vs Clima Histórico\n",
        "\n",
        "Como saber se a temperatura atual está acima ou abaixo da média? E a umidade? \n",
        "\n",
        "Para responder essa pergunta usei duas fontes de dados para obter essas informações e gerar essas comparações. \n",
        "\n",
        "Fonte de dados: \n",
        "\n",
        "URL = 'https://www.climatempo.com.br/previsao-do-tempo/agora/cidade/366/santamaria-rs'\n",
        "\n",
        "URL2 = 'https://pt.climate-data.org/america-do-sul/brasil/rio-grande-do-sul/santa-maria-4498/#climate-graph'\n",
        "\n",
        "\n",
        "Linguagem: Python\n",
        "\n",
        "_libs: requests; Beautifulsoup, datetime, pytz timezone_\n",
        "\n",
        ".\n",
        "\n",
        ".\n",
        "\n",
        "_...Próximos features:_ \n",
        "* criar um bot no telegram para receber essa informação.\n"
      ]
    },
    {
      "cell_type": "code",
      "execution_count": null,
      "metadata": {
        "id": "fOYbRAuBdDjk"
      },
      "outputs": [],
      "source": [
        "import requests \n",
        "from bs4 import BeautifulSoup as bs"
      ]
    },
    {
      "cell_type": "code",
      "execution_count": null,
      "metadata": {
        "id": "pPG2g7gf4aPB"
      },
      "outputs": [],
      "source": [
        "import pandas as pd\n",
        "import numpy as np"
      ]
    },
    {
      "cell_type": "code",
      "execution_count": null,
      "metadata": {
        "id": "9aFhQiyvLfol"
      },
      "outputs": [],
      "source": [
        "from datetime import datetime\n",
        "from pytz import timezone \n",
        "brasil = timezone('Brazil/East')\n",
        "bs_time = datetime.now(brasil)\n",
        "timestampBrasil = bs_time.strftime('%Y-%m-%d_%H-%M-%S') \n",
        "#print(bs_time)\n",
        "mes = bs_time.strftime('%m')\n",
        "mes = int(mes)"
      ]
    },
    {
      "cell_type": "markdown",
      "metadata": {
        "id": "OH7YP6T3fBAD"
      },
      "source": [
        "Obtendo informações:"
      ]
    },
    {
      "cell_type": "code",
      "execution_count": null,
      "metadata": {
        "id": "L_iy8wDFh6Tm"
      },
      "outputs": [],
      "source": [
        "headers = {\"User-Agent\": \"Mozilla/5.0 (Windows NT 10.0; Win64; x64) AppleWebKit/537.36 (KHTML, like Gecko) Chrome/70.0.3538.77 Safari/537.36\"}"
      ]
    },
    {
      "cell_type": "markdown",
      "source": [
        "#1ª fonte de dados: dados atualizados (Clima Tempo)\n",
        "\n",
        "---"
      ],
      "metadata": {
        "id": "8i3Ifdh0VubH"
      }
    },
    {
      "cell_type": "code",
      "execution_count": null,
      "metadata": {
        "id": "XsVxSHrRP5Qp"
      },
      "outputs": [],
      "source": [
        "URL = 'https://www.climatempo.com.br/previsao-do-tempo/agora/cidade/366/santamaria-rs'"
      ]
    },
    {
      "cell_type": "code",
      "execution_count": null,
      "metadata": {
        "id": "bolNGidSfEAz"
      },
      "outputs": [],
      "source": [
        "response = requests.get(URL, headers = headers).content"
      ]
    },
    {
      "cell_type": "code",
      "execution_count": null,
      "metadata": {
        "id": "b94MB49OLsLq"
      },
      "outputs": [],
      "source": [
        "soup = bs(response, 'html.parser')"
      ]
    },
    {
      "cell_type": "code",
      "execution_count": null,
      "metadata": {
        "id": "U-D4DajyO-7Q"
      },
      "outputs": [],
      "source": [
        "#obtem informacoes\n",
        "temperaturaAtual = soup.find(\"div\", class_= \"_flex _justify-center _align-center\").get_text(' ', strip = True)\n",
        "descricaoAtual = soup.find(\"span\", class_= \"col\").text"
      ]
    },
    {
      "cell_type": "code",
      "execution_count": null,
      "metadata": {
        "id": "Oc3gLuNwaB4N"
      },
      "outputs": [],
      "source": [
        "#para obter sensacao termica atual\n",
        "descricaoAtual2 = soup.find(\"div\", class_= \"no-gutters -gray _flex _justify-center _margin-t-20 _padding-b-20 _border-b-light-1\")"
      ]
    },
    {
      "cell_type": "code",
      "execution_count": null,
      "metadata": {
        "id": "pUKMqHhkaa3q"
      },
      "outputs": [],
      "source": [
        "sensacaoAtual = descricaoAtual2.find(\"span\", class_ = \"\").text"
      ]
    },
    {
      "cell_type": "code",
      "execution_count": null,
      "metadata": {
        "id": "thVvwa_UUEfQ"
      },
      "outputs": [],
      "source": [
        "detalhesAtual = soup.find(\"ul\", class_= \"variables-list _border-b-light-1\").get_text(' ', strip = True)"
      ]
    },
    {
      "cell_type": "code",
      "execution_count": null,
      "metadata": {
        "colab": {
          "base_uri": "https://localhost:8080/"
        },
        "id": "8z2CkfAvzw6J",
        "outputId": "977c5531-6e2e-46f0-f406-fe4503b2c1fb"
      },
      "outputs": [
        {
          "output_type": "execute_result",
          "data": {
            "text/plain": [
              "'Vento W - 15km/h Umidade 66% Pressão 1022hPa'"
            ],
            "application/vnd.google.colaboratory.intrinsic+json": {
              "type": "string"
            }
          },
          "metadata": {},
          "execution_count": 12
        }
      ],
      "source": [
        "detalhesAtual"
      ]
    },
    {
      "cell_type": "code",
      "execution_count": null,
      "metadata": {
        "id": "HbjE2XMgVWSD"
      },
      "outputs": [],
      "source": [
        "detalhesAtual = detalhesAtual.replace('Vento', '').replace('Umidade', ',').replace('Pressão', ',').strip().split(',')\n",
        "ventoAtual = detalhesAtual[0].strip()\n",
        "umidadeAtual = detalhesAtual[1].strip()\n",
        "pressaoAtual = detalhesAtual[2].strip()"
      ]
    },
    {
      "cell_type": "markdown",
      "metadata": {
        "id": "jXniwqvgz-ap"
      },
      "source": [
        "#Criando Pandas Dataframe:\n",
        "(Com dados do primeiro soup.find)\n",
        "\n",
        "1. criar um dicionário com Arrays;\n",
        "2. transformar em pd.DataFrame(dicionario)\n"
      ]
    },
    {
      "cell_type": "code",
      "execution_count": null,
      "metadata": {
        "colab": {
          "base_uri": "https://localhost:8080/"
        },
        "id": "w5150Mza2vHs",
        "outputId": "93471784-0802-4cd3-b98a-7d32a04399b0"
      },
      "outputs": [
        {
          "output_type": "stream",
          "name": "stdout",
          "text": [
            "Santa Maria - \t 2022-07-17_12-59-55\n",
            "Temperatura:\t 11º\n",
            "Sensação:\t 11°\n",
            "Descrição:\t Céu encoberto\n",
            "Vento:\t\t W - 15km/h\n",
            "Umidade:\t 66%\n",
            "Pressão:\t 1022hPa\n"
          ]
        }
      ],
      "source": [
        "print ('Santa Maria - \\t', timestampBrasil)\n",
        "print('Temperatura:\\t', temperaturaAtual)\n",
        "print('Sensação:\\t', sensacaoAtual[-3:])\n",
        "print('Descrição:\\t', descricaoAtual)\n",
        "print('Vento:\\t\\t',ventoAtual)\n",
        "print('Umidade:\\t',umidadeAtual)\n",
        "print('Pressão:\\t',pressaoAtual)"
      ]
    },
    {
      "cell_type": "code",
      "execution_count": null,
      "metadata": {
        "id": "bjSDZALYz7Zc"
      },
      "outputs": [],
      "source": [
        "dictCidade = {'Vento' : [ventoAtual],\n",
        "              'Umidade' : [umidadeAtual],\n",
        "              'Pressão' : [pressaoAtual]}"
      ]
    },
    {
      "cell_type": "code",
      "execution_count": null,
      "metadata": {
        "colab": {
          "base_uri": "https://localhost:8080/"
        },
        "id": "ckntc5Yz3zyB",
        "outputId": "ac97e747-d9fd-49eb-94ed-40c96ace1689"
      },
      "outputs": [
        {
          "output_type": "execute_result",
          "data": {
            "text/plain": [
              "        Vento Umidade  Pressão\n",
              "0  W - 15km/h     66%  1022hPa"
            ],
            "text/html": [
              "\n",
              "  <div id=\"df-0230db9b-39df-4034-b299-6469eafca577\">\n",
              "    <div class=\"colab-df-container\">\n",
              "      <div>\n",
              "<style scoped>\n",
              "    .dataframe tbody tr th:only-of-type {\n",
              "        vertical-align: middle;\n",
              "    }\n",
              "\n",
              "    .dataframe tbody tr th {\n",
              "        vertical-align: top;\n",
              "    }\n",
              "\n",
              "    .dataframe thead th {\n",
              "        text-align: right;\n",
              "    }\n",
              "</style>\n",
              "<table border=\"1\" class=\"dataframe\">\n",
              "  <thead>\n",
              "    <tr style=\"text-align: right;\">\n",
              "      <th></th>\n",
              "      <th>Vento</th>\n",
              "      <th>Umidade</th>\n",
              "      <th>Pressão</th>\n",
              "    </tr>\n",
              "  </thead>\n",
              "  <tbody>\n",
              "    <tr>\n",
              "      <th>0</th>\n",
              "      <td>W - 15km/h</td>\n",
              "      <td>66%</td>\n",
              "      <td>1022hPa</td>\n",
              "    </tr>\n",
              "  </tbody>\n",
              "</table>\n",
              "</div>\n",
              "      <button class=\"colab-df-convert\" onclick=\"convertToInteractive('df-0230db9b-39df-4034-b299-6469eafca577')\"\n",
              "              title=\"Convert this dataframe to an interactive table.\"\n",
              "              style=\"display:none;\">\n",
              "        \n",
              "  <svg xmlns=\"http://www.w3.org/2000/svg\" height=\"24px\"viewBox=\"0 0 24 24\"\n",
              "       width=\"24px\">\n",
              "    <path d=\"M0 0h24v24H0V0z\" fill=\"none\"/>\n",
              "    <path d=\"M18.56 5.44l.94 2.06.94-2.06 2.06-.94-2.06-.94-.94-2.06-.94 2.06-2.06.94zm-11 1L8.5 8.5l.94-2.06 2.06-.94-2.06-.94L8.5 2.5l-.94 2.06-2.06.94zm10 10l.94 2.06.94-2.06 2.06-.94-2.06-.94-.94-2.06-.94 2.06-2.06.94z\"/><path d=\"M17.41 7.96l-1.37-1.37c-.4-.4-.92-.59-1.43-.59-.52 0-1.04.2-1.43.59L10.3 9.45l-7.72 7.72c-.78.78-.78 2.05 0 2.83L4 21.41c.39.39.9.59 1.41.59.51 0 1.02-.2 1.41-.59l7.78-7.78 2.81-2.81c.8-.78.8-2.07 0-2.86zM5.41 20L4 18.59l7.72-7.72 1.47 1.35L5.41 20z\"/>\n",
              "  </svg>\n",
              "      </button>\n",
              "      \n",
              "  <style>\n",
              "    .colab-df-container {\n",
              "      display:flex;\n",
              "      flex-wrap:wrap;\n",
              "      gap: 12px;\n",
              "    }\n",
              "\n",
              "    .colab-df-convert {\n",
              "      background-color: #E8F0FE;\n",
              "      border: none;\n",
              "      border-radius: 50%;\n",
              "      cursor: pointer;\n",
              "      display: none;\n",
              "      fill: #1967D2;\n",
              "      height: 32px;\n",
              "      padding: 0 0 0 0;\n",
              "      width: 32px;\n",
              "    }\n",
              "\n",
              "    .colab-df-convert:hover {\n",
              "      background-color: #E2EBFA;\n",
              "      box-shadow: 0px 1px 2px rgba(60, 64, 67, 0.3), 0px 1px 3px 1px rgba(60, 64, 67, 0.15);\n",
              "      fill: #174EA6;\n",
              "    }\n",
              "\n",
              "    [theme=dark] .colab-df-convert {\n",
              "      background-color: #3B4455;\n",
              "      fill: #D2E3FC;\n",
              "    }\n",
              "\n",
              "    [theme=dark] .colab-df-convert:hover {\n",
              "      background-color: #434B5C;\n",
              "      box-shadow: 0px 1px 3px 1px rgba(0, 0, 0, 0.15);\n",
              "      filter: drop-shadow(0px 1px 2px rgba(0, 0, 0, 0.3));\n",
              "      fill: #FFFFFF;\n",
              "    }\n",
              "  </style>\n",
              "\n",
              "      <script>\n",
              "        const buttonEl =\n",
              "          document.querySelector('#df-0230db9b-39df-4034-b299-6469eafca577 button.colab-df-convert');\n",
              "        buttonEl.style.display =\n",
              "          google.colab.kernel.accessAllowed ? 'block' : 'none';\n",
              "\n",
              "        async function convertToInteractive(key) {\n",
              "          const element = document.querySelector('#df-0230db9b-39df-4034-b299-6469eafca577');\n",
              "          const dataTable =\n",
              "            await google.colab.kernel.invokeFunction('convertToInteractive',\n",
              "                                                     [key], {});\n",
              "          if (!dataTable) return;\n",
              "\n",
              "          const docLinkHtml = 'Like what you see? Visit the ' +\n",
              "            '<a target=\"_blank\" href=https://colab.research.google.com/notebooks/data_table.ipynb>data table notebook</a>'\n",
              "            + ' to learn more about interactive tables.';\n",
              "          element.innerHTML = '';\n",
              "          dataTable['output_type'] = 'display_data';\n",
              "          await google.colab.output.renderOutput(dataTable, element);\n",
              "          const docLink = document.createElement('div');\n",
              "          docLink.innerHTML = docLinkHtml;\n",
              "          element.appendChild(docLink);\n",
              "        }\n",
              "      </script>\n",
              "    </div>\n",
              "  </div>\n",
              "  "
            ]
          },
          "metadata": {},
          "execution_count": 16
        }
      ],
      "source": [
        "df_dictCidade = pd.DataFrame(dictCidade)\n",
        "df_dictCidade"
      ]
    },
    {
      "cell_type": "markdown",
      "metadata": {
        "id": "7tMjvVYXq-Me"
      },
      "source": [
        "#2ª fonte de dados: dados históricos\n",
        "\n",
        "---\n",
        "\n",
        "\n",
        "Adicionar comparativo com histórico de temperatura obtido em: \n",
        "\n",
        "https://pt.climate-data.org/america-do-sul/brasil/rio-grande-do-sul/santa-maria-4498/#climate-graph"
      ]
    },
    {
      "cell_type": "code",
      "execution_count": null,
      "metadata": {
        "id": "meQiRpHf5vXJ"
      },
      "outputs": [],
      "source": [
        "URL2 = 'https://pt.climate-data.org/america-do-sul/brasil/rio-grande-do-sul/santa-maria-4498/#climate-graph'"
      ]
    },
    {
      "cell_type": "code",
      "execution_count": null,
      "metadata": {
        "id": "2wUPo1ly5EvT"
      },
      "outputs": [],
      "source": [
        "response2 = requests.get(URL2, headers = headers).content"
      ]
    },
    {
      "cell_type": "code",
      "execution_count": null,
      "metadata": {
        "id": "KT2TLnpz527s"
      },
      "outputs": [],
      "source": [
        "soup2 = bs(response2, 'html.parser')"
      ]
    },
    {
      "cell_type": "code",
      "execution_count": null,
      "metadata": {
        "id": "TeJ0-afS55sc"
      },
      "outputs": [],
      "source": [
        "tabela = soup2.find(\"table\", id=\"weather_table\").find_all(\"tr\")"
      ]
    },
    {
      "cell_type": "markdown",
      "metadata": {
        "id": "yopisjn99CK1"
      },
      "source": [
        "modelo do dicionario para Pandas DataFrame: \n",
        "\n",
        "```\n",
        "df_dictCidadeHistorico = { \"tempMedia\" : [24.4, 24,1],\n",
        "\"tempMinima\" : [12, 14],\n",
        "\"nomes\" : ['janeiro', 'fevereiro']\n",
        "}\n",
        "```\n",
        "\n"
      ]
    },
    {
      "cell_type": "code",
      "execution_count": null,
      "metadata": {
        "id": "OsKsTlfPBQG7"
      },
      "outputs": [],
      "source": [
        "tabela"
      ]
    },
    {
      "cell_type": "code",
      "execution_count": null,
      "metadata": {
        "colab": {
          "base_uri": "https://localhost:8080/"
        },
        "id": "-P1qUopEAR1l",
        "outputId": "dfe26e59-33c7-47ff-a004-c11c58cf562e"
      },
      "outputs": [
        {
          "output_type": "execute_result",
          "data": {
            "text/plain": [
              "8"
            ]
          },
          "metadata": {},
          "execution_count": 22
        }
      ],
      "source": [
        "len(tabela)"
      ]
    },
    {
      "cell_type": "code",
      "execution_count": null,
      "metadata": {
        "id": "FStMXPRNDXqH"
      },
      "outputs": [],
      "source": [
        ""
      ]
    },
    {
      "cell_type": "code",
      "execution_count": null,
      "metadata": {
        "id": "SbO9lCBRIU-a"
      },
      "outputs": [],
      "source": [
        ""
      ]
    },
    {
      "cell_type": "code",
      "execution_count": null,
      "metadata": {
        "id": "ZrYW0BP5FQ1b"
      },
      "outputs": [],
      "source": [
        "mesesTitulo = []\n",
        "for i in tabela[0].find_all(\"th\"):\n",
        "  mesesTitulo.append(i.get_text(' ', strip=True))\n",
        "mesesTitulo.pop(0)\n",
        "mesesTitulo\n",
        "\n",
        "colunasTabela = len(tabela[0].find_all(\"th\"))\n",
        "colunasTabela\n",
        "\n",
        "\n",
        "linhasTabela = len(tabela) \n",
        "dadosTitulo = []\n",
        "dadosTabela = []\n",
        "\n",
        "for i in range(1, linhasTabela):   #percorre as linhas da tabela\n",
        "  linhaTabela = []\n",
        "  #print(\"===\")\n",
        "  tituloLinha = tabela[i].find_all(\"td\")[0].get_text(' ', strip=True)\n",
        "  #print(tituloLinha)\n",
        "  dadosTitulo.append(tituloLinha)\n",
        "  linhaTabela.append(tituloLinha)\n",
        "\n",
        "  for j in range(1, colunasTabela):\n",
        "    \n",
        "    \n",
        "    conteudoCelula = tabela[i].find_all(\"td\")[j].get_text(' ', strip=True).replace('&percnt','')\n",
        "    #print(conteudoCelula, ' linha', i, 'coluna', j)\n",
        "    try:\n",
        "      linhaTabela.append(int(conteudoCelula)) #armazena os dados das celulas no array linhaTabela\n",
        "    except:\n",
        "      linhaTabela.append(float(conteudoCelula)) #armazena os dados das celulas no array linhaTabela\n",
        "\n",
        "  dadosTabela.append(linhaTabela)     #armazena o array linhaTabela no array dadosTabela\n",
        "\n",
        "mesesTitulo.insert(0,'Meses')\n",
        "dadosTabela.append(mesesTitulo)\n"
      ]
    },
    {
      "cell_type": "code",
      "execution_count": null,
      "metadata": {
        "id": "ucrPfPBe9Xml"
      },
      "outputs": [],
      "source": [
        "dadosTabela"
      ]
    },
    {
      "cell_type": "code",
      "execution_count": null,
      "metadata": {
        "id": "zBJYXR6V9JFO"
      },
      "outputs": [],
      "source": [
        "dictTemperaturas = {}"
      ]
    },
    {
      "cell_type": "code",
      "execution_count": null,
      "metadata": {
        "id": "YDakH77O67ek"
      },
      "outputs": [],
      "source": [
        "for i in dadosTabela:\n",
        "  indice = i.pop(0)\n",
        "  dictTemperaturas[indice] = i"
      ]
    },
    {
      "cell_type": "code",
      "execution_count": null,
      "metadata": {
        "id": "dz376b5-6taH"
      },
      "outputs": [],
      "source": [
        "dictTemperaturas"
      ]
    },
    {
      "cell_type": "code",
      "execution_count": null,
      "metadata": {
        "id": "9HHzgodgRno4"
      },
      "outputs": [],
      "source": [
        "df_dictTemperaturas = pd.DataFrame(dictTemperaturas)"
      ]
    },
    {
      "cell_type": "code",
      "execution_count": null,
      "metadata": {
        "id": "T_WeNbke_3Gp"
      },
      "outputs": [],
      "source": [
        "df_dictTemperaturas"
      ]
    },
    {
      "cell_type": "markdown",
      "metadata": {
        "id": "WRi4j72XLxfp"
      },
      "source": [
        "## Agora, finalmente, podemos comparar o valor atual com os valores históricos obtidos:\n",
        "**bold text**"
      ]
    },
    {
      "cell_type": "code",
      "execution_count": null,
      "metadata": {
        "colab": {
          "base_uri": "https://localhost:8080/"
        },
        "id": "0doqDo31L3-g",
        "outputId": "be3e7ad3-3ae5-4d8b-88ac-427ab5b1330a"
      },
      "outputs": [
        {
          "output_type": "stream",
          "name": "stdout",
          "text": [
            "Santa Maria - \t 2022-07-17_12-59-55\n",
            "Temperatura:\t 11º\n",
            "Sensação:\t 11°\n",
            "Descrição:\t Céu encoberto\n",
            "Vento:\t\t W - 15km/h\n",
            "Umidade:\t 66%\n",
            "Pressão:\t 1022hPa\n"
          ]
        }
      ],
      "source": [
        "print ('Santa Maria - \\t', timestampBrasil)\n",
        "print('Temperatura:\\t', temperaturaAtual)\n",
        "print('Sensação:\\t', sensacaoAtual[-3:])\n",
        "print('Descrição:\\t', descricaoAtual)\n",
        "print('Vento:\\t\\t',ventoAtual)\n",
        "print('Umidade:\\t',umidadeAtual)\n",
        "print('Pressão:\\t',pressaoAtual)\n"
      ]
    },
    {
      "cell_type": "code",
      "execution_count": null,
      "metadata": {
        "id": "09ukoCoFH0C0"
      },
      "outputs": [],
      "source": [
        "consultaHistorico = df_dictTemperaturas.iloc[mes - 1]"
      ]
    },
    {
      "cell_type": "markdown",
      "source": [
        "# Resultados"
      ],
      "metadata": {
        "id": "9PBCThD_YF52"
      }
    },
    {
      "cell_type": "code",
      "execution_count": null,
      "metadata": {
        "colab": {
          "base_uri": "https://localhost:8080/"
        },
        "id": "R90WDNnHEgHc",
        "outputId": "e5f0ebd0-158f-47df-b520-e5a749de04a7"
      },
      "outputs": [
        {
          "output_type": "execute_result",
          "data": {
            "text/plain": [
              "Temperatura média (°C)      13.1\n",
              "Temperatura mínima (°C)      8.9\n",
              "Temperatura máxima (°C)     18.2\n",
              "Chuva (mm)                   149\n",
              "Umidade(%)                    82\n",
              "Dias chuvosos (d)              7\n",
              "Horas de sol (h)             6.4\n",
              "Meses                      Julho\n",
              "Name: 6, dtype: object"
            ]
          },
          "metadata": {},
          "execution_count": 32
        }
      ],
      "source": [
        "consultaHistorico"
      ]
    },
    {
      "cell_type": "code",
      "execution_count": null,
      "metadata": {
        "colab": {
          "base_uri": "https://localhost:8080/"
        },
        "id": "7v71SQSEGXal",
        "outputId": "4c3ef8b0-d6ed-4734-c42f-d8f0c21e0693"
      },
      "outputs": [
        {
          "output_type": "execute_result",
          "data": {
            "text/plain": [
              "82"
            ]
          },
          "metadata": {},
          "execution_count": 33
        }
      ],
      "source": [
        "consultaHistorico['Umidade(%)']"
      ]
    },
    {
      "cell_type": "code",
      "source": [
        "print ('A temperatura atual é',temperaturaAtual)\n",
        "print ()"
      ],
      "metadata": {
        "id": "RL4J8CnbUboS",
        "outputId": "173d85c1-9d3b-479a-880a-ac3e168a5121",
        "colab": {
          "base_uri": "https://localhost:8080/"
        }
      },
      "execution_count": null,
      "outputs": [
        {
          "output_type": "stream",
          "name": "stdout",
          "text": [
            "A temperatura atual é 11º\n",
            "\n"
          ]
        }
      ]
    },
    {
      "cell_type": "code",
      "source": [
        "if ( ((float(temperaturaAtual[:-1])) > float(consultaHistorico['Temperatura mínima (°C)'])) &  ((float(temperaturaAtual[:-1])) < float(consultaHistorico['Temperatura máxima (°C)'])) ):\n",
        "  print('A temperatura atual está dentro da média histórica.', end='\\n\\n')\n",
        "else: \n",
        "  print('A temperatura atual está fora da faixa histórica:\\n\\n')\n",
        "\n",
        "print('Temp atual:', temperaturaAtual)\n",
        "print('Temp mínima histórica:', consultaHistorico['Temperatura mínima (°C)'])\n",
        "print('Temp máxima histórica:', consultaHistorico['Temperatura máxima (°C)'], end='\\n\\n')\n",
        "print('Umidade atual:',umidadeAtual)\n",
        "print('Umidade média histórica:',consultaHistorico['Umidade(%)'])\n",
        "\n",
        "\n"
      ],
      "metadata": {
        "id": "T8u3V_NrU5WA",
        "outputId": "0bad2da2-a265-4a94-a345-5e98b115c98e",
        "colab": {
          "base_uri": "https://localhost:8080/"
        }
      },
      "execution_count": null,
      "outputs": [
        {
          "output_type": "stream",
          "name": "stdout",
          "text": [
            "A temperatura atual está dentro da média histórica.\n",
            "\n",
            "Temp atual: 11º\n",
            "Temp mínima histórica: 8.9\n",
            "Temp máxima histórica: 18.2\n",
            "\n",
            "Umidade atual: 66%\n",
            "Umidade média histórica: 82\n"
          ]
        }
      ]
    },
    {
      "cell_type": "code",
      "source": [
        "if ( ((float(umidadeAtual[:-1])) > float(consultaHistorico['Temperatura mínima (°C)'])) &  ((float(temperaturaAtual[:-1])) < float(consultaHistorico['Temperatura máxima (°C)'])) ):\n",
        "  print('A temperatura atual está dentro da média histórica.')\n",
        "else: \n",
        "  print('A temperatura atual está fora da faixa histórica:\\n\\n')\n",
        "  print('Temp atual:', temperaturaAtual)\n",
        "  print('Temp mínima histórica:', consultaHistorico['Temperatura mínima (°C)'])\n",
        "  print('Temp máxima histórica:', consultaHistorico['Temperatura máxima (°C)'])\n"
      ],
      "metadata": {
        "id": "nYHM7jyM5ArP"
      },
      "execution_count": null,
      "outputs": []
    }
  ],
  "metadata": {
    "colab": {
      "collapsed_sections": [
        "QJwQ6O7XeC-S",
        "8i3Ifdh0VubH",
        "jXniwqvgz-ap"
      ],
      "name": "Web Scraper Clima Atual vs Clima Histórico v2.ipynb",
      "provenance": [],
      "toc_visible": true,
      "authorship_tag": "ABX9TyNzcmYq0rhcV/qPpA6Z6jo4",
      "include_colab_link": true
    },
    "kernelspec": {
      "display_name": "Python 3",
      "name": "python3"
    },
    "language_info": {
      "name": "python"
    }
  },
  "nbformat": 4,
  "nbformat_minor": 0
}